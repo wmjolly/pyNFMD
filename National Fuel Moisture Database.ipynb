{
 "cells": [
  {
   "cell_type": "markdown",
   "id": "a5c6bb80",
   "metadata": {},
   "source": [
    "<h1>National Fuel Moisture Database</h1>\n",
    "<hr>\n",
    "W. Matt Jolly<br>\n",
    "USFS, RMRS, Missoula Fire Sciences Laboratory<br>\n",
    "william.jolly@usda.gov<br>\n",
    "10 June 2022"
   ]
  },
  {
   "cell_type": "code",
   "execution_count": 4,
   "id": "258b0fdf",
   "metadata": {},
   "outputs": [],
   "source": [
    "import pandas as pd\n",
    "import geopandas as gpd"
   ]
  },
  {
   "cell_type": "code",
   "execution_count": 5,
   "id": "ee366e80",
   "metadata": {},
   "outputs": [],
   "source": [
    "# Read in the three NFMD data tables \n",
    "df_dat = pd.read_csv('./Tbldata.txt',low_memory=False)\n",
    "df_site = pd.read_csv('./Tblsites.txt')\n",
    "df_fuel = pd.read_csv('./Tblfuels.txt')"
   ]
  },
  {
   "cell_type": "code",
   "execution_count": 6,
   "id": "90ad3eeb",
   "metadata": {},
   "outputs": [],
   "source": [
    "# Make the date readable by python\n",
    "df_dat['DateTime']=pd.to_datetime(df_dat['date'].astype(str) + \" 13\", format='%Y-%m-%d %H')\n",
    "df_merge1 = df_dat.merge(df_fuel,on='fuel')\n",
    "df_merge2 = df_merge1.merge(df_site, on =['gacc','site'])\n",
    "df_merge2.rename(columns=lambda x: x.strip(), inplace=True)\n",
    "# Fix the coordinates so they can be plotted on a map\n",
    "latsplit = df_merge2['lat'].str.split(pat = '-', expand = True).astype(float)\n",
    "lonsplit = df_merge2['lng'].str.split(pat = '-', expand = True).astype(float)\n",
    "df_merge2['Latitude'] = latsplit[0] + ((latsplit[1]+(latsplit[2]/60))/60)\n",
    "df_merge2['Longitude'] = (lonsplit[0] + ((lonsplit[1]+(lonsplit[2]/60))/60)) * -1\n",
    "df_merge2.drop(['ID_x','grup_x','state_x','old_fuel','ID_y','states'],axis=1,inplace=True)\n",
    "df_lfm = df_merge2\n",
    "cols=df_lfm.columns.tolist()\n",
    "# Reorder the columns to make the dataframe easier to read\n",
    "newcols = ['gacc', 'grup_y', 'site','Latitude','Longitude', 'fuel', 'date', 'DateTime',\n",
    " 'percent', 'category', 'scientific_name', 'ID', 'date_created', 'fuel_model', 'fuel_loading',\n",
    " 'slope', 'aspect', 'default_end_month', 'default_beg_month', 'remarks', 'raws_id', 'state_y', 'active',\n",
    " 'jurisdiction', 'raws', 'elevation', 'lng', 'lat']\n",
    "# Make it a GeoPandas dataframe for plotting on a map\n",
    "\n",
    "df_lfm = df_lfm[newcols]"
   ]
  },
  {
   "cell_type": "code",
   "execution_count": 7,
   "id": "e6e09954",
   "metadata": {},
   "outputs": [],
   "source": [
    "# Convert Pandas to Geopandas to plot the map of site locations\n",
    "gdf_lfm = gpd.GeoDataFrame(df_lfm, geometry=gpd.points_from_xy(df_lfm.Longitude, df_lfm.Latitude))"
   ]
  },
  {
   "cell_type": "code",
   "execution_count": 8,
   "id": "37adc396",
   "metadata": {},
   "outputs": [
    {
     "data": {
      "text/plain": [
       "array(['NOCC', 'SOCC'], dtype=object)"
      ]
     },
     "execution_count": 8,
     "metadata": {},
     "output_type": "execute_result"
    }
   ],
   "source": [
    "# Select the data for California GACCs\n",
    "gdf_lfm = gdf_lfm[(gdf_lfm['gacc'] == 'NOCC') | (gdf_lfm['gacc'] == 'SOCC')]\n",
    "gdf_lfm['gacc'].unique()"
   ]
  },
  {
   "cell_type": "code",
   "execution_count": 9,
   "id": "6c9cf084",
   "metadata": {},
   "outputs": [
    {
     "data": {
      "text/plain": [
       "<AxesSubplot:>"
      ]
     },
     "execution_count": 9,
     "metadata": {},
     "output_type": "execute_result"
    },
    {
     "data": {
      "image/png": "[encoded data removed]",
      "text/plain": [
       "<Figure size 432x288 with 1 Axes>"
      ]
     },
     "metadata": {
      "needs_background": "light"
     },
     "output_type": "display_data"
    }
   ],
   "source": [
    "# Plot the sample site locations \n",
    "gdf_lfm.plot(column='gacc')"
   ]
  },
  {
   "cell_type": "code",
   "execution_count": 10,
   "id": "1938467d",
   "metadata": {},
   "outputs": [],
   "source": [
    "# Write a final, clean CSV file for use outside Python\n",
    "df_lfm = pd.DataFrame(gdf_lfm.drop(columns='geometry'))"
   ]
  },
  {
   "cell_type": "code",
   "execution_count": null,
   "id": "1f001941",
   "metadata": {},
   "outputs": [],
   "source": []
  }
 ],
 "metadata": {
  "kernelspec": {
   "display_name": "Python 3 (ipykernel)",
   "language": "python",
   "name": "python3"
  },
  "language_info": {
   "codemirror_mode": {
    "name": "ipython",
    "version": 3
   },
   "file_extension": ".py",
   "mimetype": "text/x-python",
   "name": "python",
   "nbconvert_exporter": "python",
   "pygments_lexer": "ipython3",
   "version": "3.9.11"
  }
 },
 "nbformat": 4,
 "nbformat_minor": 5
}
